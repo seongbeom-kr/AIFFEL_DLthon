{
 "cells": [
  {
   "cell_type": "code",
   "execution_count": 1,
   "metadata": {},
   "outputs": [
    {
     "name": "stderr",
     "output_type": "stream",
     "text": [
      "/Users/limseongbeom/anaconda3/envs/musinsa/lib/python3.9/site-packages/pandas/core/arrays/masked.py:60: UserWarning: Pandas requires version '1.3.6' or newer of 'bottleneck' (version '1.3.5' currently installed).\n",
      "  from pandas.core import (\n",
      "100%|██████████| 18/18 [30:45<00:00, 102.54s/it]\n"
     ]
    },
    {
     "name": "stdout",
     "output_type": "stream",
     "text": [
      "CSV 파일이 성공적으로 저장되었습니다: /Users/limseongbeom/Desktop/Code/AIFFEL_DLthon/output_conversations.csv\n"
     ]
    }
   ],
   "source": [
    "import os\n",
    "import json\n",
    "import pandas as pd\n",
    "from tqdm import tqdm\n",
    "import glob\n",
    "\n",
    "\n",
    "# 데이터 경로 설정\n",
    "data_path = \"/Users/limseongbeom/Desktop/Code/AIFFEL_DLthon/개인/성범/한국어SNS_train\"\n",
    "# 폴더 내 모든 .json 파일 가져오기\n",
    "json_files = glob.glob(os.path.join(data_path, \"*.json\"))\n",
    "\n",
    "# 대화 데이터와 레이블을 담을 리스트\n",
    "dialogues = []\n",
    "labels = []\n",
    "\n",
    "# json 파일들을 순차적으로 처리\n",
    "for json_file in tqdm(json_files):\n",
    "    with open(json_file, \"r\", encoding='utf-8') as f:\n",
    "        data_dict = json.load(f)\n",
    "        data_entries = data_dict[\"data\"]  # 필요한 부분만 추출\n",
    "        \n",
    "        # 각 데이터 안에서 대화 내용 추출\n",
    "        for entry in data_entries:\n",
    "            df = pd.json_normalize(entry[\"body\"])\n",
    "            dialogue = []\n",
    "            for i in range(len(df)):\n",
    "                b = ''\n",
    "                if i == 0:\n",
    "                    b += df['utterance'][i]\n",
    "                else:\n",
    "                    if df['turnID'][i] == df['turnID'][i-1]:\n",
    "                        b += ' ' + df['utterance'][i]\n",
    "                    else:\n",
    "                        b += '\\n' + df['utterance'][i]\n",
    "                dialogue.append(b)\n",
    "            # 대화 데이터를 하나로 합침\n",
    "            sentence = ''.join(dialogue)\n",
    "            dialogues.append(sentence)\n",
    "            labels.append(\"일반 대화\")  # 레이블을 \"일반 대화\"로 설정\n",
    "\n",
    "# DataFrame으로 변환\n",
    "df = pd.DataFrame({\"text\": dialogues, \"label\": labels})\n",
    "\n",
    "# DataFrame으로 변환\n",
    "df = pd.DataFrame({\"text\": dialogues, \"label\": labels})\n",
    "\n",
    "# DataFrame을 CSV 파일로 저장\n",
    "output_csv_path = \"/Users/limseongbeom/Desktop/Code/AIFFEL_DLthon/output_conversations.csv\"\n",
    "df.to_csv(output_csv_path, index=False, encoding='utf-8-sig')\n",
    "\n",
    "print(f\"CSV 파일이 성공적으로 저장되었습니다: {output_csv_path}\")"
   ]
  },
  {
   "cell_type": "code",
   "execution_count": 2,
   "metadata": {},
   "outputs": [],
   "source": [
    "df = pd.read_csv(output_csv_path)"
   ]
  },
  {
   "cell_type": "code",
   "execution_count": 3,
   "metadata": {},
   "outputs": [
    {
     "data": {
      "text/html": [
       "<div>\n",
       "<style scoped>\n",
       "    .dataframe tbody tr th:only-of-type {\n",
       "        vertical-align: middle;\n",
       "    }\n",
       "\n",
       "    .dataframe tbody tr th {\n",
       "        vertical-align: top;\n",
       "    }\n",
       "\n",
       "    .dataframe thead th {\n",
       "        text-align: right;\n",
       "    }\n",
       "</style>\n",
       "<table border=\"1\" class=\"dataframe\">\n",
       "  <thead>\n",
       "    <tr style=\"text-align: right;\">\n",
       "      <th></th>\n",
       "      <th>text</th>\n",
       "      <th>label</th>\n",
       "    </tr>\n",
       "  </thead>\n",
       "  <tbody>\n",
       "    <tr>\n",
       "      <th>0</th>\n",
       "      <td>거기 비쌀까요??\\n#@시스템#사진# 33만원 #@시스템#사진# 여기는17마넝\\n밑...</td>\n",
       "      <td>일반 대화</td>\n",
       "    </tr>\n",
       "    <tr>\n",
       "      <th>1</th>\n",
       "      <td>나 결저앻ㅆ어\\n모를?\\n나 요번달에 돈 남으면 현질할꺼야\\n우와 뭐 사게?\\n이걸...</td>\n",
       "      <td>일반 대화</td>\n",
       "    </tr>\n",
       "    <tr>\n",
       "      <th>2</th>\n",
       "      <td>베라드실? 3000원 할인하는ㄷ\\n얼만디\\n정가에서 3천원빼면됌\\n베달?\\n배달비무...</td>\n",
       "      <td>일반 대화</td>\n",
       "    </tr>\n",
       "    <tr>\n",
       "      <th>3</th>\n",
       "      <td>나 버즈 케이스\\n엉\\n맘에 안드는걸사면 나중에 또 사고 또 사는 지옥에 갇힐까\\n...</td>\n",
       "      <td>일반 대화</td>\n",
       "    </tr>\n",
       "    <tr>\n",
       "      <th>4</th>\n",
       "      <td>메탈파우더를 삿읍니다\\n니 왜새 왜 네일에 꽂혔어??\\nㅋㅋㅋㅋㅋㅋㅋㅋ 아니 양손을...</td>\n",
       "      <td>일반 대화</td>\n",
       "    </tr>\n",
       "  </tbody>\n",
       "</table>\n",
       "</div>"
      ],
      "text/plain": [
       "                                                text  label\n",
       "0  거기 비쌀까요??\\n#@시스템#사진# 33만원 #@시스템#사진# 여기는17마넝\\n밑...  일반 대화\n",
       "1  나 결저앻ㅆ어\\n모를?\\n나 요번달에 돈 남으면 현질할꺼야\\n우와 뭐 사게?\\n이걸...  일반 대화\n",
       "2  베라드실? 3000원 할인하는ㄷ\\n얼만디\\n정가에서 3천원빼면됌\\n베달?\\n배달비무...  일반 대화\n",
       "3  나 버즈 케이스\\n엉\\n맘에 안드는걸사면 나중에 또 사고 또 사는 지옥에 갇힐까\\n...  일반 대화\n",
       "4  메탈파우더를 삿읍니다\\n니 왜새 왜 네일에 꽂혔어??\\nㅋㅋㅋㅋㅋㅋㅋㅋ 아니 양손을...  일반 대화"
      ]
     },
     "execution_count": 3,
     "metadata": {},
     "output_type": "execute_result"
    }
   ],
   "source": [
    "df.head()"
   ]
  },
  {
   "cell_type": "code",
   "execution_count": 4,
   "metadata": {},
   "outputs": [
    {
     "name": "stdout",
     "output_type": "stream",
     "text": [
      "<class 'pandas.core.frame.DataFrame'>\n",
      "RangeIndex: 1799996 entries, 0 to 1799995\n",
      "Data columns (total 2 columns):\n",
      " #   Column  Dtype \n",
      "---  ------  ----- \n",
      " 0   text    object\n",
      " 1   label   object\n",
      "dtypes: object(2)\n",
      "memory usage: 27.5+ MB\n"
     ]
    }
   ],
   "source": [
    "df.info()"
   ]
  },
  {
   "cell_type": "code",
   "execution_count": null,
   "metadata": {},
   "outputs": [],
   "source": []
  }
 ],
 "metadata": {
  "kernelspec": {
   "display_name": "musinsa",
   "language": "python",
   "name": "python3"
  },
  "language_info": {
   "codemirror_mode": {
    "name": "ipython",
    "version": 3
   },
   "file_extension": ".py",
   "mimetype": "text/x-python",
   "name": "python",
   "nbconvert_exporter": "python",
   "pygments_lexer": "ipython3",
   "version": "3.9.18"
  }
 },
 "nbformat": 4,
 "nbformat_minor": 2
}
